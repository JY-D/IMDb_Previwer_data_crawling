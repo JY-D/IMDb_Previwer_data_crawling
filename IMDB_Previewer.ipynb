{
 "cells": [
  {
   "cell_type": "code",
   "execution_count": null,
   "metadata": {
    "collapsed": false,
    "scrolled": false
   },
   "outputs": [
    {
     "name": "stdout",
     "output_type": "stream",
     "text": [
      "IMDB Previewer beta ver.1.00\n",
      "Enter 's' for searching movies title, 'b' for top box office information, enter others for exit.b\n",
      "Now loading... Please wait\n",
      "\t\t\t\t\tRate\tMetascore\tweekend\tgross\tweeks\n",
      "----------------------------------------------------------------------------------\n"
     ]
    },
    {
     "data": {
      "text/html": [
       "<img src=\"https://images-na.ssl-images-amazon.com/images/M/MV5BMjI4MzU5NTExNF5BMl5BanBnXkFtZTgwNzY1MTEwMDI@._V1_UY67_CR0,0,45,67_AL_.jpg\">"
      ],
      "text/plain": [
       "<IPython.core.display.HTML object>"
      ]
     },
     "metadata": {},
     "output_type": "display_data"
    },
    {
     "name": "stdout",
     "output_type": "stream",
     "text": [
      "Moana (2016) \n",
      "Animation, Adventure, Comedy\n",
      "http://www.imdb.com/title/tt3521164\t8.2\t81\t\t$28.3M\t$119.8M\t2\n",
      "Director: Ron Clements,Don Hall \n",
      "Starring: Auli'i Cravalho,Dwayne Johnson,Rachel House \n",
      "\n",
      "----------------------------------------------------------------------------------\n"
     ]
    },
    {
     "data": {
      "text/html": [
       "<img src=\"https://images-na.ssl-images-amazon.com/images/M/MV5BMjMxOTM1OTI4MV5BMl5BanBnXkFtZTgwODE5OTYxMDI@._V1_UY67_CR0,0,45,67_AL_.jpg\">"
      ],
      "text/plain": [
       "<IPython.core.display.HTML object>"
      ]
     },
     "metadata": {},
     "output_type": "display_data"
    },
    {
     "name": "stdout",
     "output_type": "stream",
     "text": [
      "Fantastic Beasts and Where to Find Them (2016) \n",
      "Adventure, Family, Fantasy\n",
      "http://www.imdb.com/title/tt3183660\t7.8\t66\t\t$18.1M\t$183.1M\t3\n",
      "Director: David Yates \n",
      "Starring: Eddie Redmayne,Katherine Waterston,Alison Sudol \n",
      "\n",
      "----------------------------------------------------------------------------------\n"
     ]
    },
    {
     "data": {
      "text/html": [
       "<img src=\"https://images-na.ssl-images-amazon.com/images/M/MV5BMTExMzU0ODcxNDheQTJeQWpwZ15BbWU4MDE1OTI4MzAy._V1_UX45_CR0,0,45,67_AL_.jpg\">"
      ],
      "text/plain": [
       "<IPython.core.display.HTML object>"
      ]
     },
     "metadata": {},
     "output_type": "display_data"
    },
    {
     "name": "stdout",
     "output_type": "stream",
     "text": [
      "Arrival (2016) \n",
      "Drama, Mystery, Sci-Fi\n",
      "http://www.imdb.com/title/tt2543164\t8.4\t81\t\t$7.3M\t$73.0M\t4\n",
      "Director: Denis Villeneuve \n",
      "Starring: Amy Adams,Jeremy Renner,Forest Whitaker \n",
      "\n",
      "----------------------------------------------------------------------------------\n"
     ]
    },
    {
     "data": {
      "text/html": [
       "<img src=\"https://images-na.ssl-images-amazon.com/images/M/MV5BMjA0MTkzMDI1MF5BMl5BanBnXkFtZTgwMjQxNDE0MDI@._V1_UX45_CR0,0,45,67_AL_.jpg\">"
      ],
      "text/plain": [
       "<IPython.core.display.HTML object>"
      ]
     },
     "metadata": {},
     "output_type": "display_data"
    },
    {
     "name": "stdout",
     "output_type": "stream",
     "text": [
      "Allied (2016) \n",
      "Action, Drama, Romance\n",
      "http://www.imdb.com/title/tt3640424\t7.2\t60\t\t$7.0M\t$28.9M\t2\n",
      "Director: Robert Zemeckis \n",
      "Starring: Brad Pitt,Marion Cotillard,Jared Harris \n",
      "\n",
      "----------------------------------------------------------------------------------\n"
     ]
    },
    {
     "data": {
      "text/html": [
       "<img src=\"https://images-na.ssl-images-amazon.com/images/M/MV5BMjM2ODA4MTM0M15BMl5BanBnXkFtZTgwNzE5OTYxMDI@._V1_UY67_CR0,0,45,67_AL_.jpg\">"
      ],
      "text/plain": [
       "<IPython.core.display.HTML object>"
      ]
     },
     "metadata": {},
     "output_type": "display_data"
    },
    {
     "name": "stdout",
     "output_type": "stream",
     "text": [
      "Doctor Strange (2016) \n",
      "Action, Adventure, Fantasy\n",
      "http://www.imdb.com/title/tt1211837\t7.9\t72\t\t$6.7M\t$215.5M\t5\n",
      "Director: Scott Derrickson \n",
      "Starring: Benedict Cumberbatch,Chiwetel Ejiofor,Rachel McAdams \n",
      "\n",
      "----------------------------------------------------------------------------------\n"
     ]
    },
    {
     "data": {
      "text/html": [
       "<img src=\"https://images-na.ssl-images-amazon.com/images/M/MV5BMTkxNDc3OTcxMV5BMl5BanBnXkFtZTgwODk2NjAzOTE@._V1_UY67_CR0,0,45,67_AL_.jpg\">"
      ],
      "text/plain": [
       "<IPython.core.display.HTML object>"
      ]
     },
     "metadata": {},
     "output_type": "display_data"
    },
    {
     "name": "stdout",
     "output_type": "stream",
     "text": [
      "Trolls (2016) \n",
      "Animation, Adventure, Comedy\n",
      "http://www.imdb.com/title/tt1679335\t6.7\t56\t\t$4.7M\t$141.5M\t5\n",
      "Director: Walt Dohrn,Mike Mitchell \n",
      "Starring: Anna Kendrick,Justin Timberlake,Zooey Deschanel \n",
      "\n",
      "----------------------------------------------------------------------------------\n"
     ]
    },
    {
     "data": {
      "text/html": [
       "<img src=\"https://images-na.ssl-images-amazon.com/images/M/MV5BMjQ1NjM3MTUxNV5BMl5BanBnXkFtZTgwMDc5MTY5OTE@._V1_UX45_CR0,0,45,67_AL_.jpg\">"
      ],
      "text/plain": [
       "<IPython.core.display.HTML object>"
      ]
     },
     "metadata": {},
     "output_type": "display_data"
    },
    {
     "name": "stdout",
     "output_type": "stream",
     "text": [
      "Hacksaw Ridge (2016) \n",
      "Drama, History, War\n",
      "http://www.imdb.com/title/tt2119532\t8.6\t71\t\t$3.3M\t$57.2M\t5\n",
      "Director: Mel Gibson \n",
      "Starring: Andrew Garfield,Sam Worthington,Luke Bracey \n",
      "\n",
      "----------------------------------------------------------------------------------\n"
     ]
    },
    {
     "data": {
      "text/html": [
       "<img src=\"https://images-na.ssl-images-amazon.com/images/M/MV5BMjM2MjE5Mzc4OF5BMl5BanBnXkFtZTgwMjc3NjEyMDI@._V1_UY67_CR0,0,45,67_AL_.jpg\">"
      ],
      "text/plain": [
       "<IPython.core.display.HTML object>"
      ]
     },
     "metadata": {},
     "output_type": "display_data"
    },
    {
     "name": "stdout",
     "output_type": "stream",
     "text": [
      "Bad Santa 2 (2016) \n",
      "Comedy, Crime, Drama\n",
      "http://www.imdb.com/title/tt1798603\t5.7\t38\t\t$3.3M\t$14.3M\t2\n",
      "Director: Mark Waters \n",
      "Starring: Billy Bob Thornton,Kathy Bates,Tony Cox \n",
      "\n",
      "----------------------------------------------------------------------------------\n"
     ]
    },
    {
     "data": {
      "text/html": [
       "<img src=\"https://images-na.ssl-images-amazon.com/images/M/MV5BOTI4NDkxMTAxM15BMl5BanBnXkFtZTgwMzU1Mzk5OTE@._V1_UY67_CR0,0,45,67_AL_.jpg\">"
      ],
      "text/plain": [
       "<IPython.core.display.HTML object>"
      ]
     },
     "metadata": {},
     "output_type": "display_data"
    },
    {
     "name": "stdout",
     "output_type": "stream",
     "text": [
      "Incarnate (2016) \n",
      "Horror, Thriller\n",
      "http://www.imdb.com/title/tt3216348\t5.4\t30\t\t$2.5M\t$2.5M\t1\n",
      "Director: Brad Peyton \n",
      "Starring: Carice van Houten,Aaron Eckhart,David Mazouz \n",
      "\n",
      "----------------------------------------------------------------------------------\n"
     ]
    },
    {
     "data": {
      "text/html": [
       "<img src=\"https://images-na.ssl-images-amazon.com/images/M/MV5BMjM1MTkwNTQ1Ml5BMl5BanBnXkFtZTgwNTc5ODgxOTE@._V1_UX45_CR0,0,45,67_AL_.jpg\">"
      ],
      "text/plain": [
       "<IPython.core.display.HTML object>"
      ]
     },
     "metadata": {},
     "output_type": "display_data"
    },
    {
     "name": "stdout",
     "output_type": "stream",
     "text": [
      "Almost Christmas (2016) \n",
      "Comedy, Drama\n",
      "http://www.imdb.com/title/tt4649416\t6.0\t55\t\t$2.5M\t$38.2M\t4\n",
      "Director: David E. Talbert \n",
      "Starring: Kimberly Elise,Omar Epps,Danny Glover \n",
      "\n",
      "----------------------------------------------------------------------------------\n",
      "IMDB Previewer beta ver.1.00\n",
      "Enter 's' for searching movies title, 'b' for top box office information, enter others for exit.b\n",
      "Now loading... Please wait\n",
      "\t\t\t\t\tRate\tMetascore\tweekend\tgross\tweeks\n",
      "----------------------------------------------------------------------------------\n"
     ]
    },
    {
     "data": {
      "text/html": [
       "<img src=\"https://images-na.ssl-images-amazon.com/images/M/MV5BMjI4MzU5NTExNF5BMl5BanBnXkFtZTgwNzY1MTEwMDI@._V1_UY67_CR0,0,45,67_AL_.jpg\">"
      ],
      "text/plain": [
       "<IPython.core.display.HTML object>"
      ]
     },
     "metadata": {},
     "output_type": "display_data"
    },
    {
     "name": "stdout",
     "output_type": "stream",
     "text": [
      "Moana (2016) \n",
      "Animation, Adventure, Comedy\n",
      "http://www.imdb.com/title/tt3521164\t8.2\t81\t\t$28.3M\t$119.8M\t2\n",
      "Director: Ron Clements,Don Hall \n",
      "Starring: Auli'i Cravalho,Dwayne Johnson,Rachel House \n",
      "\n",
      "----------------------------------------------------------------------------------\n"
     ]
    },
    {
     "data": {
      "text/html": [
       "<img src=\"https://images-na.ssl-images-amazon.com/images/M/MV5BMjMxOTM1OTI4MV5BMl5BanBnXkFtZTgwODE5OTYxMDI@._V1_UY67_CR0,0,45,67_AL_.jpg\">"
      ],
      "text/plain": [
       "<IPython.core.display.HTML object>"
      ]
     },
     "metadata": {},
     "output_type": "display_data"
    },
    {
     "name": "stdout",
     "output_type": "stream",
     "text": [
      "Fantastic Beasts and Where to Find Them (2016) \n",
      "Adventure, Family, Fantasy\n",
      "http://www.imdb.com/title/tt3183660\t7.8\t66\t\t$18.1M\t$183.1M\t3\n",
      "Director: David Yates \n",
      "Starring: Eddie Redmayne,Katherine Waterston,Alison Sudol \n",
      "\n",
      "----------------------------------------------------------------------------------\n"
     ]
    },
    {
     "data": {
      "text/html": [
       "<img src=\"https://images-na.ssl-images-amazon.com/images/M/MV5BMTExMzU0ODcxNDheQTJeQWpwZ15BbWU4MDE1OTI4MzAy._V1_UX45_CR0,0,45,67_AL_.jpg\">"
      ],
      "text/plain": [
       "<IPython.core.display.HTML object>"
      ]
     },
     "metadata": {},
     "output_type": "display_data"
    },
    {
     "name": "stdout",
     "output_type": "stream",
     "text": [
      "Arrival (2016) \n",
      "Drama, Mystery, Sci-Fi\n",
      "http://www.imdb.com/title/tt2543164\t8.4\t81\t\t$7.3M\t$73.0M\t4\n",
      "Director: Denis Villeneuve \n",
      "Starring: Amy Adams,Jeremy Renner,Forest Whitaker \n",
      "\n",
      "----------------------------------------------------------------------------------\n"
     ]
    },
    {
     "data": {
      "text/html": [
       "<img src=\"https://images-na.ssl-images-amazon.com/images/M/MV5BMjA0MTkzMDI1MF5BMl5BanBnXkFtZTgwMjQxNDE0MDI@._V1_UX45_CR0,0,45,67_AL_.jpg\">"
      ],
      "text/plain": [
       "<IPython.core.display.HTML object>"
      ]
     },
     "metadata": {},
     "output_type": "display_data"
    },
    {
     "name": "stdout",
     "output_type": "stream",
     "text": [
      "Allied (2016) \n",
      "Action, Drama, Romance\n",
      "http://www.imdb.com/title/tt3640424\t7.2\t60\t\t$7.0M\t$28.9M\t2\n",
      "Director: Robert Zemeckis \n",
      "Starring: Brad Pitt,Marion Cotillard,Jared Harris \n",
      "\n",
      "----------------------------------------------------------------------------------\n"
     ]
    },
    {
     "data": {
      "text/html": [
       "<img src=\"https://images-na.ssl-images-amazon.com/images/M/MV5BMjM2ODA4MTM0M15BMl5BanBnXkFtZTgwNzE5OTYxMDI@._V1_UY67_CR0,0,45,67_AL_.jpg\">"
      ],
      "text/plain": [
       "<IPython.core.display.HTML object>"
      ]
     },
     "metadata": {},
     "output_type": "display_data"
    },
    {
     "name": "stdout",
     "output_type": "stream",
     "text": [
      "Doctor Strange (2016) \n",
      "Action, Adventure, Fantasy\n",
      "http://www.imdb.com/title/tt1211837\t7.9\t72\t\t$6.7M\t$215.5M\t5\n",
      "Director: Scott Derrickson \n",
      "Starring: Benedict Cumberbatch,Chiwetel Ejiofor,Rachel McAdams \n",
      "\n",
      "----------------------------------------------------------------------------------\n"
     ]
    },
    {
     "data": {
      "text/html": [
       "<img src=\"https://images-na.ssl-images-amazon.com/images/M/MV5BMTkxNDc3OTcxMV5BMl5BanBnXkFtZTgwODk2NjAzOTE@._V1_UY67_CR0,0,45,67_AL_.jpg\">"
      ],
      "text/plain": [
       "<IPython.core.display.HTML object>"
      ]
     },
     "metadata": {},
     "output_type": "display_data"
    },
    {
     "name": "stdout",
     "output_type": "stream",
     "text": [
      "Trolls (2016) \n",
      "Animation, Adventure, Comedy\n",
      "http://www.imdb.com/title/tt1679335\t6.7\t56\t\t$4.7M\t$141.5M\t5\n",
      "Director: Walt Dohrn,Mike Mitchell \n",
      "Starring: Anna Kendrick,Justin Timberlake,Zooey Deschanel \n",
      "\n",
      "----------------------------------------------------------------------------------\n"
     ]
    },
    {
     "data": {
      "text/html": [
       "<img src=\"https://images-na.ssl-images-amazon.com/images/M/MV5BMjQ1NjM3MTUxNV5BMl5BanBnXkFtZTgwMDc5MTY5OTE@._V1_UX45_CR0,0,45,67_AL_.jpg\">"
      ],
      "text/plain": [
       "<IPython.core.display.HTML object>"
      ]
     },
     "metadata": {},
     "output_type": "display_data"
    },
    {
     "name": "stdout",
     "output_type": "stream",
     "text": [
      "Hacksaw Ridge (2016) \n",
      "Drama, History, War\n",
      "http://www.imdb.com/title/tt2119532\t8.6\t71\t\t$3.3M\t$57.2M\t5\n",
      "Director: Mel Gibson \n",
      "Starring: Andrew Garfield,Sam Worthington,Luke Bracey \n",
      "\n",
      "----------------------------------------------------------------------------------\n"
     ]
    },
    {
     "data": {
      "text/html": [
       "<img src=\"https://images-na.ssl-images-amazon.com/images/M/MV5BMjM2MjE5Mzc4OF5BMl5BanBnXkFtZTgwMjc3NjEyMDI@._V1_UY67_CR0,0,45,67_AL_.jpg\">"
      ],
      "text/plain": [
       "<IPython.core.display.HTML object>"
      ]
     },
     "metadata": {},
     "output_type": "display_data"
    },
    {
     "name": "stdout",
     "output_type": "stream",
     "text": [
      "Bad Santa 2 (2016) \n",
      "Comedy, Crime, Drama\n",
      "http://www.imdb.com/title/tt1798603\t5.7\t38\t\t$3.3M\t$14.3M\t2\n",
      "Director: Mark Waters \n",
      "Starring: Billy Bob Thornton,Kathy Bates,Tony Cox \n",
      "\n",
      "----------------------------------------------------------------------------------\n"
     ]
    },
    {
     "data": {
      "text/html": [
       "<img src=\"https://images-na.ssl-images-amazon.com/images/M/MV5BOTI4NDkxMTAxM15BMl5BanBnXkFtZTgwMzU1Mzk5OTE@._V1_UY67_CR0,0,45,67_AL_.jpg\">"
      ],
      "text/plain": [
       "<IPython.core.display.HTML object>"
      ]
     },
     "metadata": {},
     "output_type": "display_data"
    },
    {
     "name": "stdout",
     "output_type": "stream",
     "text": [
      "Incarnate (2016) \n",
      "Horror, Thriller\n",
      "http://www.imdb.com/title/tt3216348\t5.4\t30\t\t$2.5M\t$2.5M\t1\n",
      "Director: Brad Peyton \n",
      "Starring: Carice van Houten,Aaron Eckhart,David Mazouz \n",
      "\n",
      "----------------------------------------------------------------------------------\n"
     ]
    },
    {
     "data": {
      "text/html": [
       "<img src=\"https://images-na.ssl-images-amazon.com/images/M/MV5BMjM1MTkwNTQ1Ml5BMl5BanBnXkFtZTgwNTc5ODgxOTE@._V1_UX45_CR0,0,45,67_AL_.jpg\">"
      ],
      "text/plain": [
       "<IPython.core.display.HTML object>"
      ]
     },
     "metadata": {},
     "output_type": "display_data"
    },
    {
     "name": "stdout",
     "output_type": "stream",
     "text": [
      "Almost Christmas (2016) \n",
      "Comedy, Drama\n",
      "http://www.imdb.com/title/tt4649416\t6.0\t55\t\t$2.5M\t$38.2M\t4\n",
      "Director: David E. Talbert \n",
      "Starring: Kimberly Elise,Omar Epps,Danny Glover \n",
      "\n",
      "----------------------------------------------------------------------------------\n",
      "IMDB Previewer beta ver.1.00\n"
     ]
    }
   ],
   "source": [
    "import requests\n",
    "import re\n",
    "from bs4 import BeautifulSoup\n",
    "from operator import is_not\n",
    "from functools import partial\n",
    "from IPython.display import display, HTML\n",
    "\n",
    "list_title = []\n",
    "list_posterUrl = []\n",
    "list_page = []\n",
    "list_weekend_box = []\n",
    "list_box = []\n",
    "list_week = []\n",
    "\n",
    "list_rate = []\n",
    "list_score = []\n",
    "list_gen = []\n",
    "list_dir = []\n",
    "list_star = []\n",
    "\n",
    "wrong_input = 1\n",
    "\n",
    "#clean up data list\n",
    "def clenList():\n",
    "    list_posterUrl[:] = []\n",
    "    list_title[:] = []\n",
    "    list_page[:] = []\n",
    "    list_rate[:] = []\n",
    "    list_score[:] = []\n",
    "    list_dir[:] = []\n",
    "    list_gen[:] = []\n",
    "    list_star[:] = []\n",
    "    list_weekend_box[:] = []\n",
    "    list_box[:] = []\n",
    "    list_week[:] = []\n",
    "    return;\n",
    "\n",
    "#Top Box Functions\n",
    "def getPoster(beautifulSoup):\n",
    "    for url in beautifulSoup.select('.posterColumn'):\n",
    "        posterUrl = url.find('img')['src']\n",
    "        list_posterUrl.append(posterUrl)\n",
    "        #print(posterUrl)\n",
    "    return;\n",
    "\n",
    "def getUrl(beautifulSoup):\n",
    "    for title in beautifulSoup.select('.titleColumn'):\n",
    "        pat = '/title/[a-zA-Z0-9_]+'\n",
    "        titleurl = title.select('a')\n",
    "        #print(titleurl)  \n",
    "        titleurlShort = re.findall(pat, ''.join(str(v) for v in titleurl) )\n",
    "        #print (titleurlShort)\n",
    "        pages = \"http://www.imdb.com\" + ''.join(titleurlShort)\n",
    "        #print (pages)\n",
    "        list_page.append(pages)\n",
    "    return;    \n",
    "\n",
    "def getWeekend(beautifulSoup):\n",
    "    for weekend_box in beautifulSoup.select('.ratingColumn'):\n",
    "        if weekend_box.string != None :\n",
    "            weekend = weekend_box.string\n",
    "            pat = '[0-9M\\.$]+'\n",
    "            weekendshort = re.findall(pat, ''.join(str(v) for v in weekend))  \n",
    "            #print (''.join(weekendshort))\n",
    "            list_weekend_box.append(''.join(weekendshort))\n",
    "    return\n",
    "\n",
    "def getBox(beautifulSoup):\n",
    "    for total_box in beautifulSoup.select('.secondaryInfo'):    \n",
    "        total = total_box.string\n",
    "        #print (total)\n",
    "        list_box.append(total)\n",
    "    return\n",
    "\n",
    "def getWeek(beautifulSoup):\n",
    "    for week in beautifulSoup.select('.weeksColumn'):    \n",
    "        num_week = week.string\n",
    "        #print (num_week)\n",
    "        list_week.append(num_week)\n",
    "    return\n",
    "\n",
    "#Searching function\n",
    "def getPhoto(beautifulSoup):\n",
    "    for url in beautifulSoup.select('.primary_photo'):\n",
    "        posterUrl = url.find('img')['src']\n",
    "        list_posterUrl.append(posterUrl)\n",
    "        #print(posterUrl)\n",
    "    #print(len(list_posterUrl))\n",
    "    return;\n",
    "\n",
    "def getResult(beautifulSoup):\n",
    "    for title in beautifulSoup.select('.result_text'):        \n",
    "        pat = '/title/[a-zA-Z0-9_]+'\n",
    "        titleurl = title.find('a')\n",
    "        #print(titleurl)\n",
    "        #print(titleurl.parent.name)    \n",
    "        titleurlShort = re.findall(pat, ''.join(str(v) for v in titleurl) )\n",
    "        #print (titleurlShort)\n",
    "        pages = \"http://www.imdb.com\" + ''.join(titleurlShort)\n",
    "        #print (pages)\n",
    "        list_page.append(pages)\n",
    "        #if titleurl.parent.name == \"small\" :\n",
    "            #del list_page[-1]\n",
    "    #print(len(list_page))\n",
    "    return;   \n",
    "\n",
    "#page functions\n",
    "def getTitle(beautifulSoup):\n",
    "    for title in beautifulSoup.select('.title_wrapper'):\n",
    "        movieTitle = title.find('h1').get_text()\n",
    "        #print(movieTitle)\n",
    "        list_title.append(movieTitle)\n",
    "    return;    \n",
    "\n",
    "def getRate(beautifulSoup):\n",
    "    list_rate.append(\"N/A\")\n",
    "    for rate in beautifulSoup.select('.ratingValue'):\n",
    "        movieRate = rate.find('span').get_text()\n",
    "        #print(movieRate)\n",
    "        if movieRate is not None :\n",
    "            del list_rate[-1]\n",
    "            list_rate.append(movieRate)        \n",
    "    return;    \n",
    "\n",
    "def getMeta(beautifulSoup):\n",
    "    list_score.append(\"N/A\")\n",
    "    for score in beautifulSoup.select('.metacriticScore'):\n",
    "        metaScore = score.find('span').get_text()        \n",
    "        #print(metaScore)\n",
    "        if metaScore is not None :\n",
    "            del list_score[-1]\n",
    "            list_score.append(metaScore) \n",
    "    return;\n",
    "\n",
    "def getGenre(beautifulSoup):\n",
    "    s_genres = \"\"\n",
    "    for genre in beautifulSoup.find_all(\"div\", { \"class\" : \"subtext\" }):\n",
    "        l = 1\n",
    "        for genres in genre.find_all('span', { \"class\" : \"itemprop\" }):\n",
    "            #print(genres.text)\n",
    "            if len(genre.find_all('span', { \"class\" : \"itemprop\" })) == 1:\n",
    "                list_gen.append(genres.text)\n",
    "            else :\n",
    "                if l == 1 :\n",
    "                    s_genres = genres.text\n",
    "                else :    \n",
    "                    s_genres = s_genres + \", \" + genres.text\n",
    "                if l == len(genre.find_all('span', { \"class\" : \"itemprop\" })) :\n",
    "                    list_gen.append(s_genres)\n",
    "            l = l + 1        \n",
    "    #print(list_gen)\n",
    "    return;\n",
    "\n",
    "def getDir(beautifulSoup):\n",
    "    list_dir.append(\"N/A\")\n",
    "    directors = \"\"\n",
    "    for director in beautifulSoup.find_all(\"span\", { \"itemprop\" : \"director\" }):\n",
    "        if director.text is not None :\n",
    "            #print(director.text)\n",
    "            if ',' in director.text:\n",
    "                directors = directors + director.text.replace(\"             \", \"\")\n",
    "            else:\n",
    "                if directors == \"\" :\n",
    "                    del list_dir[-1]\n",
    "                    list_dir.append(director.text.replace(\"\\n\", \"\"))\n",
    "                else:\n",
    "                    directors = directors + director.text\n",
    "                    del list_dir[-1]\n",
    "                    list_dir.append(directors.replace(\"\\n\", \"\"))          \n",
    "    #print(list_dir)        \n",
    "    return;\n",
    "\n",
    "def getStar(beautifulSoup):\n",
    "    stars = \"\"\n",
    "    for star in beautifulSoup.find_all(\"span\", { \"itemprop\" : \"actors\" }):       \n",
    "        #print(star.text)\n",
    "        if ',' in star.text:\n",
    "            stars = stars + star.text.replace(\"             \", \"\")\n",
    "        else:\n",
    "            if stars == \"\" :\n",
    "                list_star.append(star.text.replace(\"\\n\", \"\"))\n",
    "            else:\n",
    "                stars = stars + star.text\n",
    "                list_star.append(stars.replace(\"\\n\", \"\"))          \n",
    "    #print(list_star)        \n",
    "    return;\n",
    "\n",
    "#get page info\n",
    "def getPage(page_list):    \n",
    "    for page in page_list :\n",
    "        resOfPage = requests.get(page)\n",
    "        pageSoup = BeautifulSoup(resOfPage.text, \"html.parser\")\n",
    "        \n",
    "        getTitle(pageSoup)\n",
    "        getRate(pageSoup)\n",
    "        getMeta(pageSoup)\n",
    "        getGenre(pageSoup)\n",
    "        getDir(pageSoup)\n",
    "        getStar(pageSoup)\n",
    "    return;   \n",
    "\n",
    "#main functions\n",
    "def topBox():\n",
    "    \n",
    "    resOfBox = requests.get(\"http://www.imdb.com/chart/boxoffice\")\n",
    "    boxSoup = BeautifulSoup(resOfBox.text, \"html.parser\")\n",
    "    \n",
    "    #functions\n",
    "    getPoster(boxSoup)\n",
    "    getUrl(boxSoup)\n",
    "    getWeekend(boxSoup)\n",
    "    getBox(boxSoup)\n",
    "    getWeek(boxSoup)\n",
    "    getPage(list_page)\n",
    "    \n",
    "    #display\n",
    "    print(\"\\t\\t\\t\\t\\t\" + \"Rate\" + \"\\t\" + \"Metascore\" + \"\\t\" +\"weekend\" + \"\\t\" + \"gross\" + \"\\t\" + \"weeks\" )\n",
    "    for i in range(0, len(list_weekend_box)):\n",
    "        print(\"----------------------------------------------------------------------------------\")\n",
    "        display(HTML(\"<img src=\"'\"' + list_posterUrl[i]+ '\"'\">\" ))\n",
    "        print(list_title[i]\n",
    "              + \"\\n\" + list_gen[i] + \"\\n\" +\n",
    "              list_page[i] + \"\\t\" + list_rate[i] + \"\\t\" + list_score[i] +\"\\t\\t\"+ list_weekend_box[i] +\"\\t\"+ list_box[i] +\"\\t\"+ list_week[i]\n",
    "             +\"\\nDirector: \"+ list_dir[i]\n",
    "             +\"\\nStarring: \" + list_star[i] + \"\\n\")\n",
    "    print(\"----------------------------------------------------------------------------------\")\n",
    "    \n",
    "    #OutPut\n",
    "    for i in range(0, len(list_weekend_box)):\n",
    "        print(\"[\" + '\"title\":' + '\"')\n",
    "        display(HTML(\"<img src=\"'\"' + list_posterUrl[i]+ '\"'\">\" ))\n",
    "        print(list_title[i]\n",
    "              + \"\\n\" + list_gen[i] + \"\\n\" +\n",
    "              list_page[i] + \"\\t\" + list_rate[i] + \"\\t\" + list_score[i] +\"\\t\\t\"+ list_weekend_box[i] +\"\\t\"+ list_box[i] +\"\\t\"+ list_week[i]\n",
    "             +\"\\nDirector: \"+ list_dir[i]\n",
    "             +\"\\nStarring: \" + list_star[i] + \"\\n\")\n",
    "    print(\"----------------------------------------------------------------------------------\")\n",
    "    \n",
    "    #clean list\n",
    "    clenList()\n",
    "       \n",
    "    return\n",
    "\n",
    "def search():\n",
    "    searching = input('Search Titles form IMDB : ')\n",
    "    resOfSearch = requests.get(\"http://www.imdb.com/find?ref_=nv_sr_fn&q=\" + searching + \"&s=tt\")\n",
    "    searchSoup = BeautifulSoup(resOfSearch.text, \"html.parser\")\n",
    "    print(\"Now loading... Please wait\")\n",
    "    \n",
    "    #functions\n",
    "    getPhoto(searchSoup)\n",
    "    getResult(searchSoup)\n",
    "    getPage(list_page)\n",
    "    #print(list_score)\n",
    "\n",
    "    #display\n",
    "    print(\"\\t\\t\\t\\t\\t\" + \"Rate\" + \"\\t\" + \"Metascore\")\n",
    "    for i in range(0, len(list_title)):\n",
    "        print(\"----------------------------------------------------------------------------------\")\n",
    "        display(HTML(\"<img src=\"'\"' + list_posterUrl[i]+ '\"'\">\" ))\n",
    "        print(list_title[i] \n",
    "              + \"\\n\" + list_gen[i] + \"\\n\" + \n",
    "              list_page[i] + \"\\t\" + list_rate[i] + \"\\t\" + list_score[i]\n",
    "             +\"\\nDirector: \"+ list_dir[i]\n",
    "             +\"\\nStarring: \" + list_star[i] + \"\\n\")\n",
    "    print(\"----------------------------------------------------------------------------------\")\n",
    "    \n",
    "    #clean list\n",
    "    clenList()\n",
    "       \n",
    "    return\n",
    "\n",
    "#call main functions\n",
    "while wrong_input == 1 :\n",
    "    \n",
    "    print(\"IMDB Previewer beta ver.1.00\")\n",
    "    userInput = input(\"Enter 's' for searching movies title, 'b' for top box office information, enter others for exit.\")\n",
    "\n",
    "    if userInput == 'b' :\n",
    "        print(\"Now loading... Please wait\")\n",
    "        topBox()\n",
    "    else : \n",
    "        if userInput == 's' :\n",
    "            search()\n",
    "        else :\n",
    "            print(\"Bye\")\n",
    "            wrong_input = 0"
   ]
  }
 ],
 "metadata": {
  "kernelspec": {
   "display_name": "Python 3",
   "language": "python",
   "name": "python3"
  },
  "language_info": {
   "codemirror_mode": {
    "name": "ipython",
    "version": 3
   },
   "file_extension": ".py",
   "mimetype": "text/x-python",
   "name": "python",
   "nbconvert_exporter": "python",
   "pygments_lexer": "ipython3",
   "version": "3.6.0b1"
  }
 },
 "nbformat": 4,
 "nbformat_minor": 2
}
